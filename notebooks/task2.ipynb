{
 "cells": [
  {
   "cell_type": "code",
   "execution_count": 1,
   "id": "53e07af6-486c-42ba-a792-20e1aa5c6157",
   "metadata": {},
   "outputs": [],
   "source": [
    "%load_ext autoreload\n",
    "%autoreload 2"
   ]
  },
  {
   "cell_type": "code",
   "execution_count": 2,
   "id": "60f2c979-f676-4e30-9c26-d15283ecb283",
   "metadata": {},
   "outputs": [
    {
     "name": "stdout",
     "output_type": "stream",
     "text": [
      "/home/makart/work/hse/nlp/cinderella_telegram\n"
     ]
    }
   ],
   "source": [
    "%cd .."
   ]
  },
  {
   "cell_type": "code",
   "execution_count": 19,
   "id": "ac7be351-86d0-4669-b911-e95cfcc3d08e",
   "metadata": {},
   "outputs": [],
   "source": [
    "import itertools\n",
    "\n",
    "import pandas as pd\n",
    "import torch\n",
    "from nltk import TweetTokenizer\n",
    "from sklearn.neighbors import NearestNeighbors\n",
    "\n",
    "from src.datamodules.tg_messages_datamodule import TgMessagesDataModule, read_dfs\n",
    "from src.models.tg_messages_module import TgCinderellaLitModule\n",
    "from src.models.components.text_linear_model import TextLinearModel\n",
    "from src.utils.utils import prepare_vocab"
   ]
  },
  {
   "cell_type": "code",
   "execution_count": 4,
   "id": "37870ce7-1a50-44be-9d59-2fc54c678368",
   "metadata": {},
   "outputs": [],
   "source": [
    "data = pd.read_csv(\"data/default/train_data.csv\", index_col=\"id\")\n",
    "solution = pd.read_csv(\"data/default/train_solution.csv\", index_col=\"id\")\n",
    "train = data.join(solution, on=\"id\")"
   ]
  },
  {
   "cell_type": "code",
   "execution_count": 5,
   "id": "756ffe60-a3ac-42d1-afe9-b9552854abb5",
   "metadata": {},
   "outputs": [],
   "source": [
    "datamodule = TgMessagesDataModule()"
   ]
  },
  {
   "cell_type": "code",
   "execution_count": 6,
   "id": "d4475935-5575-404a-b925-4d6324079372",
   "metadata": {},
   "outputs": [
    {
     "name": "stdout",
     "output_type": "stream",
     "text": [
      "self.vocab_size=18619\n"
     ]
    }
   ],
   "source": [
    "datamodule.setup()"
   ]
  },
  {
   "cell_type": "code",
   "execution_count": 7,
   "id": "e6b60067-f5eb-4f86-8fcf-3df4c591b3ef",
   "metadata": {},
   "outputs": [
    {
     "data": {
      "text/plain": [
       "{'id': 272250,\n",
       " 'message': [1, 1341, 9, 633, 5, 165, 40, 181, 196, 2, 37, 852, 181],\n",
       " 'category': 2}"
      ]
     },
     "execution_count": 7,
     "metadata": {},
     "output_type": "execute_result"
    }
   ],
   "source": [
    "item = datamodule.data_train[0]\n",
    "item"
   ]
  },
  {
   "cell_type": "code",
   "execution_count": 8,
   "id": "59bebd30-ba79-4d37-82ce-74ff86870ed3",
   "metadata": {},
   "outputs": [],
   "source": [
    "train_dataloader = datamodule.train_dataloader()"
   ]
  },
  {
   "cell_type": "code",
   "execution_count": 9,
   "id": "ea5a2080-a63e-4cc5-966f-1ad8a3cdc16b",
   "metadata": {},
   "outputs": [
    {
     "data": {
      "text/plain": [
       "(tensor([2, 1, 0, 2, 2, 0, 1, 2, 1, 0, 1, 0, 0, 1, 2, 0, 0, 0, 2, 0, 2, 0, 0, 2,\n",
       "         0, 0, 1, 1, 0, 1, 1, 2, 1, 1, 1, 0, 1, 0, 1, 1, 1, 2, 0, 2, 0, 1, 0, 1,\n",
       "         2, 0, 1, 0, 1, 2, 1, 2, 1, 1, 0, 0, 0, 0, 0, 0]),\n",
       " tensor([  7, 397,  63,  ...,  43,  23,   3]),\n",
       " tensor([   0,  171,  334,  345,  503,  520,  527,  574,  626,  632,  639,  689,\n",
       "          695,  700,  722,  755,  760,  768,  773,  811,  820, 1107, 1108, 1111,\n",
       "         1234, 1236, 1254, 1377, 1478, 1479, 1481, 1527, 1663, 1928, 2009, 2100,\n",
       "         2142, 2179, 2181, 2682, 2766, 2811, 2825, 2831, 2888, 2906, 3351, 3364,\n",
       "         3647, 3658, 3664, 3972, 3975, 4213, 4531, 4756, 4770, 4900, 5126, 5128,\n",
       "         5148, 5157, 5165, 5179]),\n",
       " tensor([275275, 272479, 273883, 274865, 273698, 275666, 273950, 273641, 275054,\n",
       "         272338, 275103, 272307, 271910, 274161, 274197, 273466, 274056, 273449,\n",
       "         275564, 274618, 272275, 274786, 274308, 274840, 273864, 272886, 274792,\n",
       "         274098, 272910, 274682, 273115, 274885, 274119, 274858, 275056, 274018,\n",
       "         274715, 271892, 273742, 272339, 273333, 275478, 274599, 273176, 272048,\n",
       "         274278, 274397, 272721, 272619, 273364, 272907, 273405, 275312, 275046,\n",
       "         272358, 273131, 274386, 273927, 272378, 275537, 272526, 275039, 274486,\n",
       "         272914]))"
      ]
     },
     "execution_count": 9,
     "metadata": {},
     "output_type": "execute_result"
    }
   ],
   "source": [
    "batch = next(iter(train_dataloader))\n",
    "batch"
   ]
  },
  {
   "cell_type": "code",
   "execution_count": 10,
   "id": "66e406ff-de07-4699-92b8-057fd9d83ed0",
   "metadata": {},
   "outputs": [],
   "source": [
    "net = TextLinearModel(20000, 1024, 3, 4)"
   ]
  },
  {
   "cell_type": "code",
   "execution_count": 11,
   "id": "e3433b3f-9b70-4394-bb94-67665ea406db",
   "metadata": {},
   "outputs": [
    {
     "name": "stderr",
     "output_type": "stream",
     "text": [
      "/home/makart/work/hse/nlp/nlp_venv/lib/python3.10/site-packages/torchmetrics/utilities/prints.py:36: DeprecationWarning: From v0.10 an `'Binary*'`, `'Multiclass*', `'Multilabel*'` version now exist of each classification metric. Moving forward we recommend using these versions. This base metric will still work as it did prior to v0.10 until v0.11. From v0.11 the `task` argument introduced in this metric will be required and the general order of arguments may change, such that this metric will just function as an single entrypoint to calling the three specialized versions.\n",
      "  warnings.warn(*args, **kwargs)\n"
     ]
    }
   ],
   "source": [
    "model = TgCinderellaLitModule(net=net, optimizer=None, scheduler=None)"
   ]
  },
  {
   "cell_type": "code",
   "execution_count": 12,
   "id": "c1da648a-86d2-4169-8edc-586816a82608",
   "metadata": {},
   "outputs": [],
   "source": [
    "sd = torch.load('./logs/train/runs/2022-10-20_18-40-17/checkpoints/epoch_005.ckpt')"
   ]
  },
  {
   "cell_type": "code",
   "execution_count": 13,
   "id": "86e3e688-9cbe-4832-a09f-8f403bd7542c",
   "metadata": {},
   "outputs": [
    {
     "data": {
      "text/plain": [
       "<All keys matched successfully>"
      ]
     },
     "execution_count": 13,
     "metadata": {},
     "output_type": "execute_result"
    }
   ],
   "source": [
    "model.load_state_dict(sd['state_dict'])"
   ]
  },
  {
   "cell_type": "code",
   "execution_count": 35,
   "id": "279dda23-52b7-4fcf-a0d4-c231bf1da7e1",
   "metadata": {},
   "outputs": [],
   "source": [
    "results = []\n",
    "for labels, texts, offsets, ids in train_dataloader:\n",
    "    results.extend(model.net.embedding(texts, offsets))\n",
    "results = torch.stack(results, axis=0).detach().numpy()"
   ]
  },
  {
   "cell_type": "code",
   "execution_count": 15,
   "id": "f161d274-92e6-4626-bfbe-c4638b88bc81",
   "metadata": {},
   "outputs": [
    {
     "data": {
      "text/plain": [
       "tensor([  0,  73,  79, 277])"
      ]
     },
     "execution_count": 15,
     "metadata": {},
     "output_type": "execute_result"
    }
   ],
   "source": [
    "offsets"
   ]
  },
  {
   "cell_type": "code",
   "execution_count": 16,
   "id": "682c9593-7f45-4c57-b86b-4d8b546bfb7b",
   "metadata": {},
   "outputs": [],
   "source": [
    "tokenizer = TweetTokenizer()\n",
    "df_train, df_test = read_dfs(\"data/\")\n",
    "\n",
    "def tokenize_preprocess(text: str) -> str:\n",
    "    return \" \".join(tokenizer.tokenize(text.lower()))\n",
    "\n",
    "vocab = prepare_vocab(\n",
    "    itertools.chain(*(tokenize_preprocess(message).split() for message in df_train.message))\n",
    ")"
   ]
  },
  {
   "cell_type": "code",
   "execution_count": 39,
   "id": "54621eb6-d5a4-4f28-8e80-888e9e7c9d5b",
   "metadata": {},
   "outputs": [],
   "source": [
    "emb = model.net.embedding(torch.tensor(vocab([\"my\", \"future\"])), torch.tensor([0]))\n",
    "emb = emb.detach().numpy()"
   ]
  },
  {
   "cell_type": "code",
   "execution_count": 40,
   "id": "c63b2895-7760-4efa-bd10-1b763643634e",
   "metadata": {},
   "outputs": [],
   "source": [
    "nn = NearestNeighbors().fit(results)"
   ]
  },
  {
   "cell_type": "code",
   "execution_count": 42,
   "id": "a48476d7-52d5-40b1-939b-6af0af80efa6",
   "metadata": {},
   "outputs": [
    {
     "data": {
      "text/plain": [
       "3202"
      ]
     },
     "execution_count": 42,
     "metadata": {},
     "output_type": "execute_result"
    }
   ],
   "source": [
    "nn.kneighbors(emb, 1, return_distance=False)[0, 0]"
   ]
  },
  {
   "cell_type": "code",
   "execution_count": 47,
   "id": "2354314e-28ec-4a67-bf6e-c99901402f50",
   "metadata": {},
   "outputs": [
    {
     "data": {
      "text/plain": [
       "\"the current average funding rate of bitcoin hit a new high in six months , about 0.0532 % . in addition , today's panic and greed index has reached 84 , which is also a record high in six months , and is in a stage of extreme greed .\""
      ]
     },
     "execution_count": 47,
     "metadata": {},
     "output_type": "execute_result"
    }
   ],
   "source": [
    "\" \".join(vocab.lookup_tokens(datamodule.data_train[3202][\"message\"]))"
   ]
  }
 ],
 "metadata": {
  "kernelspec": {
   "display_name": "nlp_venv",
   "language": "python",
   "name": "nlp_venv"
  },
  "language_info": {
   "codemirror_mode": {
    "name": "ipython",
    "version": 3
   },
   "file_extension": ".py",
   "mimetype": "text/x-python",
   "name": "python",
   "nbconvert_exporter": "python",
   "pygments_lexer": "ipython3",
   "version": "3.10.6"
  }
 },
 "nbformat": 4,
 "nbformat_minor": 5
}
